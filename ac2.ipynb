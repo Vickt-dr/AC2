{
  "nbformat": 4,
  "nbformat_minor": 0,
  "metadata": {
    "colab": {
      "provenance": [],
      "gpuType": "T4",
      "include_colab_link": true
    },
    "kernelspec": {
      "name": "python3",
      "display_name": "Python 3"
    },
    "language_info": {
      "name": "python"
    },
    "accelerator": "GPU"
  },
  "cells": [
    {
      "cell_type": "markdown",
      "metadata": {
        "id": "view-in-github",
        "colab_type": "text"
      },
      "source": [
        "<a href=\"https://colab.research.google.com/github/Vickt-dr/AC2/blob/main/ac2.ipynb\" target=\"_parent\"><img src=\"https://colab.research.google.com/assets/colab-badge.svg\" alt=\"Open In Colab\"/></a>"
      ]
    },
    {
      "cell_type": "markdown",
      "source": [
        "# Projeto de Arquitetura de Computadores 2\n",
        "\n",
        "**Professor:** João Victor de A. Oliveira\n",
        "\n",
        "---\n",
        "\n",
        "### Integrantes da Dupla\n",
        "\n",
        "* **Nome:**  Eduardo Ferreira Dourado\n",
        "* **Matrícula:** 231057600031\n",
        "* **Nome:** Victória Ferreira de Carvalho\n",
        "* **Matrícula:** 231057600026\n",
        "------"
      ],
      "metadata": {
        "id": "rohrVtLk0Q8H"
      }
    },
    {
      "cell_type": "code",
      "source": [
        "!nvidia-smi"
      ],
      "metadata": {
        "colab": {
          "base_uri": "https://localhost:8080/"
        },
        "id": "YMZw7_HIRZsX",
        "outputId": "3ecc5bc4-5303-4459-ff43-ec1973b05bd2"
      },
      "execution_count": null,
      "outputs": [
        {
          "output_type": "stream",
          "name": "stdout",
          "text": [
            "Mon Jul 28 13:42:56 2025       \n",
            "+-----------------------------------------------------------------------------------------+\n",
            "| NVIDIA-SMI 550.54.15              Driver Version: 550.54.15      CUDA Version: 12.4     |\n",
            "|-----------------------------------------+------------------------+----------------------+\n",
            "| GPU  Name                 Persistence-M | Bus-Id          Disp.A | Volatile Uncorr. ECC |\n",
            "| Fan  Temp   Perf          Pwr:Usage/Cap |           Memory-Usage | GPU-Util  Compute M. |\n",
            "|                                         |                        |               MIG M. |\n",
            "|=========================================+========================+======================|\n",
            "|   0  Tesla T4                       Off |   00000000:00:04.0 Off |                    0 |\n",
            "| N/A   46C    P8              9W /   70W |       0MiB /  15360MiB |      0%      Default |\n",
            "|                                         |                        |                  N/A |\n",
            "+-----------------------------------------+------------------------+----------------------+\n",
            "                                                                                         \n",
            "+-----------------------------------------------------------------------------------------+\n",
            "| Processes:                                                                              |\n",
            "|  GPU   GI   CI        PID   Type   Process name                              GPU Memory |\n",
            "|        ID   ID                                                               Usage      |\n",
            "|=========================================================================================|\n",
            "|  No running processes found                                                             |\n",
            "+-----------------------------------------------------------------------------------------+\n"
          ]
        }
      ]
    },
    {
      "cell_type": "markdown",
      "source": [
        "-------\n",
        "## Questão 1: Implementação de Códigos em CUDA C\n",
        "\n",
        "O código a seguir implementa as partes (a) e (b) da questão 1, utilizando vetores de tamanho N=500 com números float pseudoaleatórios e 8 threads por bloco. A parte (b) faz uso obrigatório de memória compartilhada para otimização."
      ],
      "metadata": {
        "id": "RymGvAFbkLCP"
      }
    },
    {
      "cell_type": "code",
      "source": [
        "%%writefile q1.cu\n",
        "\n",
        "#include <iostream>\n",
        "#include <vector>\n",
        "#include <iomanip>\n",
        "#include <cstdlib>\n",
        "#include <ctime>\n",
        "\n",
        "#define CUDA_CHECK(err) { \\\n",
        "    if (err != cudaSuccess) { \\\n",
        "        std::cerr << \"CUDA Error: \" << cudaGetErrorString(err) << \" em \" << __FILE__ << \" na linha \" << __LINE__ << std::endl; \\\n",
        "        exit(EXIT_FAILURE); \\\n",
        "    } \\\n",
        "}\n",
        "\n",
        "// Kernel CUDA para a Questão 1, parte (a)\n",
        "__global__ void part_a_kernel(float* a, float* b, int n) {\n",
        "    int idx = blockIdx.x * blockDim.x + threadIdx.x;\n",
        "    if (idx < n) {\n",
        "        if (a[idx] < b[idx]) {\n",
        "            a[idx] = 1.2f * b[idx];\n",
        "            b[idx] = 0.8f * b[idx];\n",
        "        }\n",
        "    }\n",
        "}\n",
        "\n",
        "// Kernel CUDA para a Questão 1, parte (b) com memória compartilhada\n",
        "__global__ void part_b_kernel(const float* a, float* b, int n) {\n",
        "    extern __shared__ float shared_a[];\n",
        "    int tid_local = threadIdx.x;\n",
        "    int tid_global = blockIdx.x * blockDim.x + threadIdx.x;\n",
        "\n",
        "    if (tid_global < n) {\n",
        "        shared_a[tid_local + 1] = a[tid_global];\n",
        "    }\n",
        "    if (tid_local == 0 && blockIdx.x > 0) {\n",
        "        shared_a[0] = a[tid_global - 1];\n",
        "    }\n",
        "    if (tid_local == blockDim.x - 1 && tid_global < n - 1) {\n",
        "        shared_a[tid_local + 2] = a[tid_global + 1];\n",
        "    }\n",
        "    __syncthreads();\n",
        "\n",
        "    if (tid_global > 0 && tid_global < n - 1) {\n",
        "        float val = (shared_a[tid_local] + shared_a[tid_local + 1] + shared_a[tid_local + 2]) / 3.0f;\n",
        "        b[tid_global] = val;\n",
        "    }\n",
        "}\n",
        "\n",
        "void printInitialVectors(const char* title, const float* a, const float* b, int n) {\n",
        "    std::cout << \"\\n--- \" << title << \" ---\\n\";\n",
        "    std::cout << std::fixed << std::setprecision(2);\n",
        "    std::cout << \"Mostrando os 10 primeiros valores de N=\" << n << \":\\n\";\n",
        "    std::cout << \"Vetor a: \";\n",
        "    for (int i = 0; i < 10; ++i) std::cout << a[i] << \" \";\n",
        "    std::cout << \"...\\n\";\n",
        "    std::cout << \"Vetor b: \";\n",
        "    for (int i = 0; i < 10; ++i) std::cout << b[i] << \" \";\n",
        "    std::cout << \"...\\n\";\n",
        "}\n",
        "\n",
        "void printSingleVector(const char* title, const float* vec, int n) {\n",
        "    std::cout << \"\\n--- \" << title << \" ---\\n\";\n",
        "    std::cout << std::fixed << std::setprecision(2);\n",
        "    std::cout << \"Mostrando os 10 primeiros valores de N=\" << n << \":\\n\";\n",
        "    for (int i = 0; i < 10; ++i) std::cout << vec[i] << \" \";\n",
        "    std::cout << \"...\\n\";\n",
        "}\n",
        "\n",
        "int main() {\n",
        "    const int N = 500;\n",
        "    const int THREADS_PER_BLOCK = 8;\n",
        "\n",
        "    std::vector<float> h_a(N);\n",
        "    std::vector<float> h_b(N);\n",
        "    std::vector<float> h_b_original(N);\n",
        "\n",
        "    srand(time(0));\n",
        "    for (int i = 0; i < N; ++i) {\n",
        "        h_a[i] = static_cast<float>(rand() % 101);\n",
        "        h_b[i] = static_cast<float>(rand() % 101);\n",
        "    }\n",
        "    h_b_original = h_b;\n",
        "\n",
        "    printInitialVectors(\"Vetores Iniciais\", h_a.data(), h_b.data(), N);\n",
        "\n",
        "    float *d_a, *d_b;\n",
        "    CUDA_CHECK(cudaMalloc(&d_a, N * sizeof(float)));\n",
        "    CUDA_CHECK(cudaMalloc(&d_b, N * sizeof(float)));\n",
        "\n",
        "    // Parte (a)\n",
        "    CUDA_CHECK(cudaMemcpy(d_a, h_a.data(), N * sizeof(float), cudaMemcpyHostToDevice));\n",
        "    CUDA_CHECK(cudaMemcpy(d_b, h_b.data(), N * sizeof(float), cudaMemcpyHostToDevice));\n",
        "    int blocksPerGrid = (N + THREADS_PER_BLOCK - 1) / THREADS_PER_BLOCK;\n",
        "    part_a_kernel<<<blocksPerGrid, THREADS_PER_BLOCK>>>(d_a, d_b, N);\n",
        "    CUDA_CHECK(cudaDeviceSynchronize());\n",
        "    CUDA_CHECK(cudaMemcpy(h_a.data(), d_a, N * sizeof(float), cudaMemcpyDeviceToHost));\n",
        "    CUDA_CHECK(cudaMemcpy(h_b.data(), d_b, N * sizeof(float), cudaMemcpyDeviceToHost));\n",
        "    printInitialVectors(\"Vetores Apos a Parte (a)\", h_a.data(), h_b.data(), N);\n",
        "\n",
        "    // Parte (b)\n",
        "    CUDA_CHECK(cudaMemcpy(d_a, h_a.data(), N * sizeof(float), cudaMemcpyHostToDevice));\n",
        "    CUDA_CHECK(cudaMemcpy(d_b, h_b_original.data(), N * sizeof(float), cudaMemcpyHostToDevice));\n",
        "    size_t sharedMemSize = (THREADS_PER_BLOCK + 2) * sizeof(float);\n",
        "    part_b_kernel<<<blocksPerGrid, THREADS_PER_BLOCK, sharedMemSize>>>(d_a, d_b, N);\n",
        "    CUDA_CHECK(cudaDeviceSynchronize());\n",
        "    CUDA_CHECK(cudaMemcpy(h_b.data(), d_b, N * sizeof(float), cudaMemcpyDeviceToHost));\n",
        "    printSingleVector(\"Vetor b Final (Apos a Parte (b))\", h_b.data(), N);\n",
        "\n",
        "    cudaFree(d_a);\n",
        "    cudaFree(d_b);\n",
        "    std::cout << \"\\nExecucao finalizada com sucesso.\" << std::endl;\n",
        "    return 0;\n",
        "}"
      ],
      "metadata": {
        "colab": {
          "base_uri": "https://localhost:8080/"
        },
        "id": "Xmu77jGRnPLi",
        "outputId": "d38dee1f-0046-4bc6-a202-72177e9ff35b"
      },
      "execution_count": null,
      "outputs": [
        {
          "output_type": "stream",
          "name": "stdout",
          "text": [
            "Writing q1.cu\n"
          ]
        }
      ]
    },
    {
      "cell_type": "markdown",
      "source": [
        "-----\n",
        "### Instruções de Compilação e Execução (Questão 1)\n",
        "\n",
        "**Compilação:**\n",
        "!nvcc q1.cu -o q1_exec -arch=compute_75 -code=sm_75\n",
        "\n",
        "**Execução:**\n",
        "!./q1_exec"
      ],
      "metadata": {
        "id": "k7Kx0dE9P5Lk"
      }
    },
    {
      "cell_type": "code",
      "source": [
        "!nvcc q1.cu -o q1_exec -arch=compute_75 -code=sm_75"
      ],
      "metadata": {
        "id": "nKZeMYco-T_L"
      },
      "execution_count": null,
      "outputs": []
    },
    {
      "cell_type": "code",
      "source": [
        "!./q1_exec"
      ],
      "metadata": {
        "colab": {
          "base_uri": "https://localhost:8080/"
        },
        "id": "BuRDRbNCSI59",
        "outputId": "909ae7d8-148b-42e7-89de-2a3b22c16ffb"
      },
      "execution_count": null,
      "outputs": [
        {
          "output_type": "stream",
          "name": "stdout",
          "text": [
            "\n",
            "--- Vetores Iniciais ---\n",
            "Mostrando os 10 primeiros valores de N=500:\n",
            "Vetor a: 7.00 93.00 71.00 67.00 30.00 4.00 82.00 61.00 73.00 64.00 ...\n",
            "Vetor b: 12.00 79.00 61.00 84.00 56.00 49.00 28.00 99.00 74.00 75.00 ...\n",
            "\n",
            "--- Vetores Apos a Parte (a) ---\n",
            "Mostrando os 10 primeiros valores de N=500:\n",
            "Vetor a: 14.40 93.00 71.00 100.80 67.20 58.80 82.00 118.80 88.80 90.00 ...\n",
            "Vetor b: 9.60 79.00 61.00 67.20 44.80 39.20 28.00 79.20 59.20 60.00 ...\n",
            "\n",
            "--- Vetor b Final (Apos a Parte (b)) ---\n",
            "Mostrando os 10 primeiros valores de N=500:\n",
            "12.00 59.47 88.27 79.67 75.60 69.33 86.53 96.53 99.20 70.40 ...\n",
            "\n",
            "Execucao finalizada com sucesso.\n"
          ]
        }
      ]
    },
    {
      "cell_type": "markdown",
      "source": [
        "------\n",
        "## Questão 2: Busca Otimizada de Termos em Texto\n",
        "\n",
        "O programa a seguir, implementado em CUDA C, otimiza a busca de um termo em um texto. Ele é projetado para receber um texto de até 500 caracteres e um termo de busca de até 5 caracteres.\n",
        "\n",
        "A saída do programa listará todos os índices no texto onde o termo de busca foi encontrado."
      ],
      "metadata": {
        "id": "JzFFEBHRUHkB"
      }
    },
    {
      "cell_type": "code",
      "source": [
        "%%writefile q2.cu\n",
        "#include <iostream>\n",
        "#include <vector>\n",
        "#include <string>\n",
        "\n",
        "// Macro para verificação de erros CUDA\n",
        "#define CUDA_CHECK(err) { \\\n",
        "    if (err != cudaSuccess) { \\\n",
        "        std::cerr << \"CUDA Error: \" << cudaGetErrorString(err) << \" in file \" << __FILE__ << \" at line \" << __LINE__ << std::endl; \\\n",
        "        exit(EXIT_FAILURE); \\\n",
        "    } \\\n",
        "}\n",
        "\n",
        "__global__ void findTerm(const char* text, int text_len, const char* term, int term_len, int* results) {\n",
        "    int idx = blockIdx.x * blockDim.x + threadIdx.x;\n",
        "\n",
        "    if (idx <= text_len - term_len) {\n",
        "        bool match = true;\n",
        "        for (int i = 0; i < term_len; ++i) {\n",
        "            if (text[idx + i] != term[i]) {\n",
        "                match = false;\n",
        "                break;\n",
        "            }\n",
        "        }\n",
        "        if (match) {\n",
        "            results[idx] = 1;\n",
        "        }\n",
        "    }\n",
        "}\n",
        "\n",
        "int main() {\n",
        "    const std::string h_text_str = \"banana bandada e um banquete para o bando\";\n",
        "    const std::string h_term_str = \"ban\";\n",
        "\n",
        "    int text_len = h_text_str.length();\n",
        "    int term_len = h_term_str.length();\n",
        "\n",
        "    std::cout << \"Texto: \\\"\" << h_text_str << \"\\\"\" << std::endl;\n",
        "    std::cout << \"Termo de busca: \\\"\" << h_term_str << \"\\\"\\n\" << std::endl;\n",
        "\n",
        "    std::vector<int> h_results(text_len, 0);\n",
        "\n",
        "    char *d_text, *d_term;\n",
        "    int* d_results;\n",
        "\n",
        "    CUDA_CHECK(cudaMalloc(&d_text, (text_len + 1) * sizeof(char)));\n",
        "    CUDA_CHECK(cudaMalloc(&d_term, (term_len + 1) * sizeof(char)));\n",
        "    CUDA_CHECK(cudaMalloc(&d_results, text_len * sizeof(int)));\n",
        "\n",
        "    CUDA_CHECK(cudaMemcpy(d_text, h_text_str.c_str(), text_len + 1, cudaMemcpyHostToDevice));\n",
        "    CUDA_CHECK(cudaMemcpy(d_term, h_term_str.c_str(), term_len + 1, cudaMemcpyHostToDevice));\n",
        "    CUDA_CHECK(cudaMemset(d_results, 0, text_len * sizeof(int))); // Inicializa resultados com 0\n",
        "\n",
        "    const int THREADS_PER_BLOCK = 256;\n",
        "    int search_space = text_len - term_len + 1;\n",
        "    int blocksPerGrid = (search_space + THREADS_PER_BLOCK - 1) / THREADS_PER_BLOCK;\n",
        "\n",
        "    findTerm<<<blocksPerGrid, THREADS_PER_BLOCK>>>(d_text, text_len, d_term, term_len, d_results);\n",
        "\n",
        "    CUDA_CHECK(cudaDeviceSynchronize());\n",
        "\n",
        "    CUDA_CHECK(cudaMemcpy(h_results.data(), d_results, text_len * sizeof(int), cudaMemcpyDeviceToHost));\n",
        "\n",
        "    std::cout << \"Termo encontrado nos seguintes índices: \";\n",
        "    bool first = true;\n",
        "    for (int i = 0; i < text_len; ++i) {\n",
        "        if (h_results[i] == 1) {\n",
        "            if (!first) std::cout << \", \";\n",
        "            std::cout << i;\n",
        "            first = false;\n",
        "        }\n",
        "    }\n",
        "    if (first) std::cout << \"Nenhum\";\n",
        "    std::cout << std::endl;\n",
        "\n",
        "    cudaFree(d_text);\n",
        "    cudaFree(d_term);\n",
        "    cudaFree(d_results);\n",
        "\n",
        "    return 0;\n",
        "}"
      ],
      "metadata": {
        "colab": {
          "base_uri": "https://localhost:8080/"
        },
        "id": "9UAlD-Qj-Jtg",
        "outputId": "cc2c0338-16b5-4d5c-d770-1c72baf14ba5"
      },
      "execution_count": null,
      "outputs": [
        {
          "output_type": "stream",
          "name": "stdout",
          "text": [
            "Overwriting q2.cu\n"
          ]
        }
      ]
    },
    {
      "cell_type": "markdown",
      "source": [
        "-----\n",
        "### Instruções de Compilação e Execução (Questão 2)\n",
        "\n",
        "**Compilação:**\n",
        "!nvcc q2.cu -o q2_exec -arch=compute_75 -code=sm_75\n",
        "\n",
        "**Execução:**\n",
        "!./q2_exec"
      ],
      "metadata": {
        "id": "xjCrj_8iQVnD"
      }
    },
    {
      "cell_type": "code",
      "source": [
        "!nvcc q2.cu -o q2_exec -arch=compute_75 -code=sm_75"
      ],
      "metadata": {
        "id": "6xG4yex0-Jvw"
      },
      "execution_count": null,
      "outputs": []
    },
    {
      "cell_type": "code",
      "source": [
        "!./q2_exec"
      ],
      "metadata": {
        "colab": {
          "base_uri": "https://localhost:8080/"
        },
        "id": "Ouwit2zpV_bc",
        "outputId": "2d865578-f8fd-4a68-8f56-5dc4d13bdb81"
      },
      "execution_count": null,
      "outputs": [
        {
          "output_type": "stream",
          "name": "stdout",
          "text": [
            "Texto: \"banana bandada e um banquete para o bando\"\n",
            "Termo de busca: \"ban\"\n",
            "\n",
            "Termo encontrado nos seguintes índices: 0, 7, 20, 36\n"
          ]
        }
      ]
    },
    {
      "cell_type": "markdown",
      "source": [
        "------\n",
        "## Questão 3: Média Móvel de Casos de COVID-19\n",
        "\n",
        "O programa a seguir implementa em CUDA C o cálculo da média móvel de 7 dias para casos de COVID-19. Ele recebe um vetor de 365 dias com dados gerados randomicamente (0 a 10.000 casos diários) e calcula a média para cada dia com base no dia atual e nos 6 dias anteriores.\n",
        "\n",
        "Para os 6 primeiros dias do ano, assume-se que os casos nos dias anteriores (do ano anterior) foram zero, conforme a especificação do projeto."
      ],
      "metadata": {
        "id": "EAqYFUq-eOEp"
      }
    },
    {
      "cell_type": "code",
      "source": [
        "%%writefile q3.cu\n",
        "#include <iostream>\n",
        "#include <vector>\n",
        "#include <iomanip>\n",
        "#include <cstdlib>\n",
        "#include <ctime>\n",
        "\n",
        "#define CUDA_CHECK(err) { \\\n",
        "    if (err != cudaSuccess) { \\\n",
        "        std::cerr << \"CUDA Error: \" << cudaGetErrorString(err) << \" in file \" << __FILE__ << \" at line \" << __LINE__ << std::endl; \\\n",
        "        exit(EXIT_FAILURE); \\\n",
        "    } \\\n",
        "}\n",
        "\n",
        "__global__ void movingAverage(const int* daily_cases, float* moving_avg, int n) {\n",
        "    const int WINDOW_SIZE = 7;\n",
        "    int idx = blockIdx.x * blockDim.x + threadIdx.x;\n",
        "\n",
        "    if (idx < n) {\n",
        "        float current_sum = 0.0f;\n",
        "        for (int i = 0; i < WINDOW_SIZE; ++i) {\n",
        "            int data_idx = idx - i;\n",
        "            if (data_idx >= 0) {\n",
        "                current_sum += daily_cases[data_idx];\n",
        "            }\n",
        "        }\n",
        "        moving_avg[idx] = current_sum / WINDOW_SIZE;\n",
        "    }\n",
        "}\n",
        "\n",
        "void printData(const std::vector<int>& cases, const std::vector<float>& avg) {\n",
        "    std::cout << \"\\n--- Media Movel de 7 Dias (Resultados Iniciais) ---\\n\";\n",
        "    std::cout << std::fixed << std::setprecision(2);\n",
        "    for (int i = 0; i < 14; ++i) {\n",
        "        std::cout << \"Dia \" << std::setw(2) << i + 1 << \" | Casos: \" << std::setw(5) << cases[i]\n",
        "                  << \" | Media Movel 7D: \" << avg[i] << std::endl;\n",
        "    }\n",
        "    std::cout << \"...\\n\";\n",
        "}\n",
        "\n",
        "int main() {\n",
        "    const int DAYS = 365;\n",
        "\n",
        "    std::vector<int> h_daily_cases(DAYS);\n",
        "    std::vector<float> h_moving_avg(DAYS, 0.0f);\n",
        "\n",
        "    srand(time(0));\n",
        "    for (int i = 0; i < DAYS; ++i) {\n",
        "        h_daily_cases[i] = rand() % 10001; //\n",
        "    }\n",
        "\n",
        "    int* d_daily_cases;\n",
        "    float* d_moving_avg;\n",
        "    CUDA_CHECK(cudaMalloc(&d_daily_cases, DAYS * sizeof(int)));\n",
        "    CUDA_CHECK(cudaMalloc(&d_moving_avg, DAYS * sizeof(float)));\n",
        "    CUDA_CHECK(cudaMemcpy(d_daily_cases, h_daily_cases.data(), DAYS * sizeof(int), cudaMemcpyHostToDevice));\n",
        "\n",
        "    const int THREADS_PER_BLOCK = 256;\n",
        "    int blocksPerGrid = (DAYS + THREADS_PER_BLOCK - 1) / THREADS_PER_BLOCK;\n",
        "    movingAverage<<<blocksPerGrid, THREADS_PER_BLOCK>>>(d_daily_cases, d_moving_avg, DAYS);\n",
        "    CUDA_CHECK(cudaDeviceSynchronize());\n",
        "\n",
        "    CUDA_CHECK(cudaMemcpy(h_moving_avg.data(), d_moving_avg, DAYS * sizeof(float), cudaMemcpyDeviceToHost));\n",
        "    printData(h_daily_cases, h_moving_avg);\n",
        "\n",
        "    cudaFree(d_daily_cases);\n",
        "    cudaFree(d_moving_avg);\n",
        "\n",
        "    return 0;\n",
        "}"
      ],
      "metadata": {
        "colab": {
          "base_uri": "https://localhost:8080/"
        },
        "id": "Elf314H5-Jyi",
        "outputId": "5d3e2c91-eeef-4edc-dd9f-987b306073b6"
      },
      "execution_count": null,
      "outputs": [
        {
          "output_type": "stream",
          "name": "stdout",
          "text": [
            "Writing q3.cu\n"
          ]
        }
      ]
    },
    {
      "cell_type": "markdown",
      "source": [
        "-----\n",
        "### Instruções de Compilação e Execução (Questão 3)\n",
        "\n",
        "**Compilação:**\n",
        "!nvcc q3.cu -o q3_exec -arch=compute_75 -code=sm_75\n",
        "\n",
        "**Execução:**\n",
        "!./q3_exec"
      ],
      "metadata": {
        "id": "JzyYR7YGQeR7"
      }
    },
    {
      "cell_type": "code",
      "source": [
        "!nvcc q3.cu -o q3_exec -arch=compute_75 -code=sm_75"
      ],
      "metadata": {
        "id": "icWSykKI-J1U"
      },
      "execution_count": null,
      "outputs": []
    },
    {
      "cell_type": "code",
      "source": [
        "!./q3_exec"
      ],
      "metadata": {
        "colab": {
          "base_uri": "https://localhost:8080/"
        },
        "id": "8rC-Vym_dcHm",
        "outputId": "1b6d5fbc-aba3-4462-9406-76c6e139b1e2"
      },
      "execution_count": null,
      "outputs": [
        {
          "output_type": "stream",
          "name": "stdout",
          "text": [
            "\n",
            "--- Media Movel de 7 Dias (Resultados Iniciais) ---\n",
            "Dia  1 | Casos:  6137 | Media Movel 7D: 876.71\n",
            "Dia  2 | Casos:  9431 | Media Movel 7D: 2224.00\n",
            "Dia  3 | Casos:  1401 | Media Movel 7D: 2424.14\n",
            "Dia  4 | Casos:  4362 | Media Movel 7D: 3047.29\n",
            "Dia  5 | Casos:  6364 | Media Movel 7D: 3956.43\n",
            "Dia  6 | Casos:  6947 | Media Movel 7D: 4948.86\n",
            "Dia  7 | Casos:  9486 | Media Movel 7D: 6304.00\n",
            "Dia  8 | Casos:  7624 | Media Movel 7D: 6516.43\n",
            "Dia  9 | Casos:  1373 | Media Movel 7D: 5365.29\n",
            "Dia 10 | Casos:  6197 | Media Movel 7D: 6050.43\n",
            "Dia 11 | Casos:   509 | Media Movel 7D: 5500.00\n",
            "Dia 12 | Casos:  5092 | Media Movel 7D: 5318.29\n",
            "Dia 13 | Casos:  8879 | Media Movel 7D: 5594.29\n",
            "Dia 14 | Casos:  9765 | Media Movel 7D: 5634.14\n",
            "...\n"
          ]
        }
      ]
    },
    {
      "cell_type": "markdown",
      "source": [
        "--------"
      ],
      "metadata": {
        "id": "QBo6UKc4eXuT"
      }
    }
  ]
}